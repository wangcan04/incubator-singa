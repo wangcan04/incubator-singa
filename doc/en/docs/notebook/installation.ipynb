{
 "cells": [
  {
   "cell_type": "markdown",
   "metadata": {},
   "source": [
    "The easiast way to install SINGA is via [conda](https://conda.io/docs/).\n",
    "\n",
    "## Install Conda\n",
    "\n",
    "If you haven't install conda, you can install it via\n",
    "\n",
    "* Linux 64\n",
    "\n",
    "      wget https://repo.continuum.io/miniconda/Miniconda2-latest-Linux-x86_64.sh -O miniconda.sh\n",
    "      bash miniconda.sh\n",
    "\n",
    "* Mac OSX\n",
    "\n",
    "      wget https://repo.continuum.io/miniconda/Miniconda2-latest-MacOSX-x86_64.sh  miniconda.sh\n",
    "      bash miniconda.sh\n",
    "        \n",
    "* Windows (not supported for the moment) \n",
    "\n",
    "## Install SINGA\n",
    "\n",
    "With Conda installed, you can install SINGA via\n",
    "\n",
    "* SINGA for Linux\n",
    "  * CPU Version\n",
    "      \n",
    "        conda install -c nusdbsystem singa\n",
    "      \n",
    "  * GPU Version\n",
    "      \n",
    "        conda install -c nusdbystem singa-cudax.y-cudnnz\n",
    "    \n",
    "    where <x,y,z> specifies the cuda and cuDNN version, which could be (cuda8.0, cudnn5), (cuda7.5, cudnn5) or (cuda7.5, cudnn4)\n",
    "    \n",
    "    \n",
    "* SINGA for MacOSX (CPU only)\n",
    "  \n",
    "      conda config --add channels conda-forge\n",
    "      conda install -c nusdbsystem singa\n",
    "      \n",
    "      \n",
    "## Install Jupyter Notebook \n",
    "\n",
    "Jupyter is required to run the notebooks\n",
    "\n",
    "    conda install jupyter\n",
    "    \n",
    "Optionally you can install the extensions for switching between conda virtual environments\n",
    "\n",
    "    conda install nb_conda_kernels\n",
    "    \n",
    "To learn more about Jupyter, please check [IPython in Depth](https://www.youtube.com/watch?v=xe_ATRmw0KM).\n",
    "\n",
    "\n",
    "## Run the notebooks\n",
    "\n",
    "Download the [notebooks](https://github.com/apache/incubator-singa/tree/master/doc/en/docs/notebook) and start the jupyter\n",
    "\n",
    "    jupyter notebook"
   ]
  }
 ],
 "metadata": {
  "kernelspec": {
   "display_name": "Python [conda env:conda]",
   "language": "python",
   "name": "conda-env-conda-py"
  },
  "language_info": {
   "codemirror_mode": {
    "name": "ipython",
    "version": 2
   },
   "file_extension": ".py",
   "mimetype": "text/x-python",
   "name": "python",
   "nbconvert_exporter": "python",
   "pygments_lexer": "ipython2",
   "version": "2.7.13"
  }
 },
 "nbformat": 4,
 "nbformat_minor": 2
}
