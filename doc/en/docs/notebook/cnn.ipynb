{
 "cells": [
  {
   "cell_type": "markdown",
   "metadata": {},
   "source": [
    "# Classify images from MNIST using LeNet"
   ]
  },
  {
   "cell_type": "markdown",
   "metadata": {},
   "source": [
    "## Dataset\n",
    "\n",
    "Download the [dataset](http://deeplearning.net/data/mnist/mnist.pkl.gz) to your workingspace"
   ]
  },
  {
   "cell_type": "code",
   "execution_count": 1,
   "metadata": {
    "collapsed": true
   },
   "outputs": [],
   "source": [
    "import cPickle, gzip\n",
    "\n",
    "# Load the dataset\n",
    "f = gzip.open('mnist.pkl.gz', 'rb')\n",
    "train_set, valid_set, _ = cPickle.load(f)\n",
    "f.close()"
   ]
  },
  {
   "cell_type": "code",
   "execution_count": 2,
   "metadata": {
    "collapsed": false
   },
   "outputs": [
    {
     "name": "stdout",
     "output_type": "stream",
     "text": [
      "(50000, 784) (50000,)\n",
      "(10000, 784) (10000,)\n"
     ]
    }
   ],
   "source": [
    "print train_set[0].shape, train_set[1].shape\n",
    "print valid_set[0].shape, valid_set[1].shape"
   ]
  },
  {
   "cell_type": "code",
   "execution_count": 11,
   "metadata": {
    "collapsed": false
   },
   "outputs": [],
   "source": [
    "import numpy as np\n",
    "train_x = np.reshape(train_set[0], (50000, 1, 28, 28)).astype(np.float32, copy=False)\n",
    "train_y = np.array(train_set[1]).astype(np.int32, copy=False)\n",
    "valid_x = np.reshape(valid_set[0], (10000, 1, 28, 28))"
   ]
  },
  {
   "cell_type": "code",
   "execution_count": 4,
   "metadata": {
    "collapsed": false
   },
   "outputs": [
    {
     "data": {
      "text/plain": [
       "<matplotlib.image.AxesImage at 0x7f885a47a150>"
      ]
     },
     "execution_count": 4,
     "metadata": {},
     "output_type": "execute_result"
    },
    {
     "data": {
      "image/png": "[encoded data removed]",
      "text/plain": [
       "<matplotlib.figure.Figure at 0x7f8862d4b810>"
      ]
     },
     "metadata": {},
     "output_type": "display_data"
    }
   ],
   "source": [
    "%matplotlib inline\n",
    "import matplotlib.pyplot as plt\n",
    "plt.imshow(train_x[0][0])"
   ]
  },
  {
   "cell_type": "markdown",
   "metadata": {},
   "source": [
    "## Create the CNN model\n",
    "\n",
    "TODO: plot the net structure"
   ]
  },
  {
   "cell_type": "code",
   "execution_count": 5,
   "metadata": {
    "collapsed": false
   },
   "outputs": [
    {
     "name": "stdout",
     "output_type": "stream",
     "text": [
      "conv1 (32, 14, 14)\n",
      "relu1 (32, 14, 14)\n",
      "conv2 (32, 7, 7)\n",
      "relu2 (32, 7, 7)\n",
      "pool (32, 4, 4)\n",
      "flat (512,)\n",
      "dense (10,)\n",
      "conv1_weight (32, 9) 0.0764843672514\n",
      "conv1_bias (32,) 0.0\n",
      "conv2_weight (32, 288) 0.0803024768829\n",
      "conv2_bias (32,) 0.0\n",
      "dense_weight (512, 10) 0.0795410946012\n",
      "dense_bias (10,) 0.0\n"
     ]
    }
   ],
   "source": [
    "from singa import net as ffnet\n",
    "from singa.layer import Conv2D, MaxPooling2D, Dropout, Activation, Flatten, Dense\n",
    "from singa import optimizer, loss, metric\n",
    "from singa import layer\n",
    "layer.engine = 'singacpp'\n",
    "net = ffnet.FeedForwardNet(loss.SoftmaxCrossEntropy(), metric.Accuracy())\n",
    "net.add(Conv2D('conv1', 32, 3, 2, input_sample_shape=(1,28,28)))\n",
    "net.add(Activation('relu1'))\n",
    "net.add(Conv2D('conv2', 32, 3, 2))\n",
    "net.add(Activation('relu2'))\n",
    "net.add(MaxPooling2D('pool', 3, 2))\n",
    "net.add(Flatten('flat'))\n",
    "net.add(Dense('dense', 10))\n"
   ]
  },
  {
   "cell_type": "markdown",
   "metadata": {},
   "source": [
    "## Initialize the parameters\n",
    "\n",
    "* weight matrix - guassian distribution\n",
    "* bias - 0"
   ]
  },
  {
   "cell_type": "code",
   "execution_count": null,
   "metadata": {
    "collapsed": true
   },
   "outputs": [],
   "source": [
    "for pname, pval in zip(net.param_names(), net.param_values()):\n",
    "    if len(pval.shape) > 1:\n",
    "        pval.gaussian(0, 0.1)\n",
    "    else:\n",
    "        pval.set_value(0)\n",
    "    print pname, pval.shape, pval.l1()"
   ]
  },
  {
   "cell_type": "markdown",
   "metadata": {},
   "source": [
    "## Set up the optimizer and tensors"
   ]
  },
  {
   "cell_type": "code",
   "execution_count": 15,
   "metadata": {
    "collapsed": false
   },
   "outputs": [],
   "source": [
    "from singa import tensor\n",
    "from singa.proto import core_pb2\n",
    "from singa import device\n",
    "from singa import utils\n",
    "cpu = device.get_default_device()\n",
    "\n",
    "opt = optimizer.SGD(momentum=0.9, weight_decay=1e-4)\n",
    "batch_size = 32\n",
    "num_train_batch = train_x.shape[0] / batch_size\n",
    "\n",
    "tx = tensor.Tensor((batch_size, 1, 28, 28))\n",
    "ty = tensor.Tensor((batch_size,), cpu , core_pb2.kInt)\n",
    "\n",
    "from tqdm import tnrange\n",
    "idx = np.arange(train_x.shape[0], dtype=np.int32)"
   ]
  },
  {
   "cell_type": "markdown",
   "metadata": {},
   "source": [
    "## Conduct SGD\n",
    "\n",
    "1. process the training data multile time, each time is called on epoch; \n",
    "2. for each epoch, read the data as mini-batches in random order\n",
    "3. for each mini-batch, do BP and update the parameters  "
   ]
  },
  {
   "cell_type": "code",
   "execution_count": 23,
   "metadata": {
    "collapsed": false
   },
   "outputs": [
    {
     "name": "stdout",
     "output_type": "stream",
     "text": [
      "\n",
      "Epoch = 0, training loss = 0.049774, training accuracy = 0.984195\n",
      "\n",
      "Epoch = 1, training loss = 0.045198, training accuracy = 0.985175\n"
     ]
    }
   ],
   "source": [
    "for epoch in range(2):\n",
    "    np.random.shuffle(idx)\n",
    "    loss, acc = 0.0, 0.0\n",
    "    \n",
    "    bar = tnrange(num_train_batch, desc='Epoch %d' % epoch)\n",
    "    for b in bar:\n",
    "        x = train_x[idx[b * batch_size: (b + 1) * batch_size]]\n",
    "        y = train_y[idx[b * batch_size: (b + 1) * batch_size]]\n",
    "        tx.copy_from_numpy(x)\n",
    "        ty.copy_from_numpy(y)\n",
    "        grads, (l, a) = net.train(tx, ty)\n",
    "        loss += l\n",
    "        acc += a\n",
    "        for (s, p, g) in zip(net.param_names(), net.param_values(), grads):\n",
    "            opt.apply_with_lr(epoch, 0.01, g, p, str(s), b)\n",
    "        # update progress bar\n",
    "        bar.set_postfix(train_loss=l, train_accuracy=a)\n",
    "    print 'Epoch = %d, training loss = %f, training accuracy = %f' % (epoch, loss / num_train_batch, acc / num_train_batch)    \n"
   ]
  },
  {
   "cell_type": "markdown",
   "metadata": {},
   "source": [
    "## Save model to disk"
   ]
  },
  {
   "cell_type": "code",
   "execution_count": 24,
   "metadata": {
    "collapsed": true
   },
   "outputs": [],
   "source": [
    "net.save('checkpoint')"
   ]
  },
  {
   "cell_type": "markdown",
   "metadata": {},
   "source": [
    "## Load model from disk"
   ]
  },
  {
   "cell_type": "code",
   "execution_count": null,
   "metadata": {
    "collapsed": true
   },
   "outputs": [],
   "source": [
    "for pval in net.param_values():\n",
    "    pval.set_value(0)\n",
    "net.load('checkpoint')"
   ]
  },
  {
   "cell_type": "markdown",
   "metadata": {},
   "source": [
    "## Do prediction"
   ]
  },
  {
   "cell_type": "code",
   "execution_count": 29,
   "metadata": {
    "collapsed": false
   },
   "outputs": [],
   "source": [
    "from PIL import Image\n",
    "img = Image.open('static/digit.jpg').convert('L')\n",
    "img = img.resize((28,28))\n",
    "img = np.array(img, dtype=np.float32)/255\n",
    "img = tensor.from_numpy(img)\n",
    "img.reshape((1,1,28,28))\n",
    "y=net.predict(img)"
   ]
  },
  {
   "cell_type": "code",
   "execution_count": 34,
   "metadata": {
    "collapsed": false
   },
   "outputs": [
    {
     "data": {
      "text/plain": [
       "[<matplotlib.lines.Line2D at 0x7f8861683d90>]"
      ]
     },
     "execution_count": 34,
     "metadata": {},
     "output_type": "execute_result"
    },
    {
     "data": {
      "image/png": "[encoded data removed]",
      "text/plain": [
       "<matplotlib.figure.Figure at 0x7f8850090fd0>"
      ]
     },
     "metadata": {},
     "output_type": "display_data"
    }
   ],
   "source": [
    "prob=tensor.to_numpy(y)[0]\n",
    "plt.plot(range(10), prob)"
   ]
  },
  {
   "cell_type": "markdown",
   "metadata": {},
   "source": [
    "## Debug\n",
    "\n",
    "Print l1 norm or parameter and layer feature\n",
    "\n",
    "1. parameter initialization\n",
    "2. learning rate\n",
    "3. weight decay\n"
   ]
  },
  {
   "cell_type": "code",
   "execution_count": 37,
   "metadata": {
    "collapsed": false
   },
   "outputs": [
    {
     "name": "stdout",
     "output_type": "stream",
     "text": [
      "\n",
      "\n",
      "Epoch 0\n",
      "-->conv1: 0.166107\n",
      "conv1-->relu1: 0.108610\n",
      "relu1-->conv2: 0.903090\n",
      "conv2-->relu2: 0.140909\n",
      "relu2-->pool: 0.622060\n",
      "pool-->flat: 0.622060\n",
      "flat-->dense: 5.872416\n",
      "-->dense: 0.000020\n",
      "dense-->flat: 0.000020\n",
      "flat-->pool: 0.000006\n",
      "pool-->relu2: 0.000003\n",
      "relu2-->conv2: 0.000007\n",
      "conv2-->relu1: 0.000003\n",
      "relu1-->conv1: 0.000020\n",
      "\n",
      "\n",
      "Epoch 1\n",
      "-->conv1: 0.172752\n",
      "conv1-->relu1: 0.112391\n",
      "relu1-->conv2: 0.927154\n",
      "conv2-->relu2: 0.149621\n",
      "relu2-->pool: 0.666872\n",
      "pool-->flat: 0.666872\n",
      "flat-->dense: 5.489178\n",
      "-->dense: 0.000081\n",
      "dense-->flat: 0.000081\n",
      "flat-->pool: 0.000023\n",
      "pool-->relu2: 0.000013\n",
      "relu2-->conv2: 0.000034\n",
      "conv2-->relu1: 0.000016\n",
      "relu1-->conv1: 0.000103\n",
      "\n",
      "\n",
      "Epoch 2\n",
      "-->conv1: 0.170042\n",
      "conv1-->relu1: 0.110705\n",
      "relu1-->conv2: 0.921814\n",
      "conv2-->relu2: 0.147750\n",
      "relu2-->pool: 0.657527\n",
      "pool-->flat: 0.657527\n",
      "flat-->dense: 5.475877\n",
      "-->dense: 0.000189\n",
      "dense-->flat: 0.000189\n",
      "flat-->pool: 0.000051\n",
      "pool-->relu2: 0.000035\n",
      "relu2-->conv2: 0.000088\n",
      "conv2-->relu1: 0.000041\n",
      "relu1-->conv1: 0.000258\n",
      "\n",
      "\n",
      "Epoch 3\n",
      "-->conv1: 0.176051\n",
      "conv1-->relu1: 0.114148\n",
      "relu1-->conv2: 0.940590\n",
      "conv2-->relu2: 0.152191\n",
      "relu2-->pool: 0.679773\n",
      "pool-->flat: 0.679773\n",
      "flat-->dense: 5.700204\n",
      "-->dense: 0.000199\n",
      "dense-->flat: 0.000199\n",
      "flat-->pool: 0.000055\n",
      "pool-->relu2: 0.000031\n",
      "relu2-->conv2: 0.000083\n",
      "conv2-->relu1: 0.000037\n",
      "relu1-->conv1: 0.000232\n",
      "\n",
      "\n",
      "Epoch 4\n",
      "-->conv1: 0.165630\n",
      "conv1-->relu1: 0.108071\n",
      "relu1-->conv2: 0.897880\n",
      "conv2-->relu2: 0.139139\n",
      "relu2-->pool: 0.621218\n",
      "pool-->flat: 0.621218\n",
      "flat-->dense: 5.253216\n",
      "-->dense: 0.000124\n",
      "dense-->flat: 0.000124\n",
      "flat-->pool: 0.000035\n",
      "pool-->relu2: 0.000020\n",
      "relu2-->conv2: 0.000050\n",
      "conv2-->relu1: 0.000023\n",
      "relu1-->conv1: 0.000139\n"
     ]
    }
   ],
   "source": [
    "np.random.shuffle(idx)\n",
    "ffnet.verbose=True\n",
    "for b in range(5):\n",
    "    print \"\\n\\nEpoch %d\" % b\n",
    "    x = train_x[idx[b * batch_size: (b + 1) * batch_size]]\n",
    "    y = train_y[idx[b * batch_size: (b + 1) * batch_size]]\n",
    "    tx.copy_from_numpy(x)\n",
    "    ty.copy_from_numpy(y)\n",
    "    grads, (l, a) = net.train(tx, ty)\n",
    "    for (s, p, g) in zip(net.param_names(), net.param_values(), grads):\n",
    "        opt.apply_with_lr(epoch, 0.01, g, p, str(s), b)\n"
   ]
  },
  {
   "cell_type": "code",
   "execution_count": 38,
   "metadata": {
    "collapsed": true
   },
   "outputs": [],
   "source": [
    "def vis_square(data):\n",
    "    \"\"\"Take an array of shape (n, height, width) or (n, height, width, 3)\n",
    "       and visualize each (height, width) thing in a grid of size approx. sqrt(n) by sqrt(n)\"\"\"\n",
    "    \n",
    "    # normalize data for display\n",
    "    data = (data - data.min()) / (data.max() - data.min())\n",
    "    \n",
    "    # force the number of filters to be square\n",
    "    n = int(np.ceil(np.sqrt(data.shape[0])))\n",
    "    padding = (((0, n ** 2 - data.shape[0]),\n",
    "               (0, 1), (0, 1))                 # add some space between filters\n",
    "               + ((0, 0),) * (data.ndim - 3))  # don't pad the last dimension (if there is one)\n",
    "    data = np.pad(data, padding, mode='constant', constant_values=1)  # pad with ones (white)\n",
    "    \n",
    "    # tile the filters into an image\n",
    "    data = data.reshape((n, n) + data.shape[1:]).transpose((0, 2, 1, 3) + tuple(range(4, data.ndim + 1)))\n",
    "    data = data.reshape((n * data.shape[1], n * data.shape[3]) + data.shape[4:])\n",
    "    \n",
    "    plt.imshow(data); plt.axis('off')"
   ]
  },
  {
   "cell_type": "code",
   "execution_count": 45,
   "metadata": {
    "collapsed": false
   },
   "outputs": [
    {
     "name": "stdout",
     "output_type": "stream",
     "text": [
      "(32, 14, 14)\n"
     ]
    }
   ],
   "source": [
    "np.random.shuffle(idx)\n",
    "ffnet.verbose=False\n",
    "\n",
    "b=1\n",
    "x = train_x[idx[b * batch_size: (b + 1) * batch_size]]    \n",
    "tx.copy_from_numpy(x)\n",
    "\n",
    "r = net.forward(False, tx, ['relu1', 'relu2'])\n",
    "\n",
    "\n",
    "    "
   ]
  },
  {
   "cell_type": "code",
   "execution_count": 46,
   "metadata": {
    "collapsed": false
   },
   "outputs": [
    {
     "data": {
      "image/png": "[encoded data removed]",
      "text/plain": [
       "<matplotlib.figure.Figure at 0x7f8861633d10>"
      ]
     },
     "metadata": {},
     "output_type": "display_data"
    }
   ],
   "source": [
    "r1 = tensor.to_numpy(r['relu1'])[0]\n",
    "vis_square(r1)"
   ]
  },
  {
   "cell_type": "code",
   "execution_count": 47,
   "metadata": {
    "collapsed": false
   },
   "outputs": [
    {
     "data": {
      "image/png": "[encoded data removed]",
      "text/plain": [
       "<matplotlib.figure.Figure at 0x7f88615cce50>"
      ]
     },
     "metadata": {},
     "output_type": "display_data"
    }
   ],
   "source": [
    "r2 = tensor.to_numpy(r['relu2'])[0]\n",
    "vis_square(r2)"
   ]
  },
  {
   "cell_type": "code",
   "execution_count": null,
   "metadata": {
    "collapsed": true
   },
   "outputs": [],
   "source": []
  }
 ],
 "metadata": {
  "anaconda-cloud": {},
  "kernelspec": {
   "display_name": "Python [conda env:conda]",
   "language": "python",
   "name": "conda-env-conda-py"
  },
  "language_info": {
   "codemirror_mode": {
    "name": "ipython",
    "version": 2
   },
   "file_extension": ".py",
   "mimetype": "text/x-python",
   "name": "python",
   "nbconvert_exporter": "python",
   "pygments_lexer": "ipython2",
   "version": "2.7.13"
  },
  "widgets": {
   "state": {
    "a11fe9b4e82541f7b41d2da4efac6b36": {
     "views": [
      {
       "cell_index": 8
      }
     ]
    },
    "c767e7556ab84d6b88da58208fd2249b": {
     "views": [
      {
       "cell_index": 8
      }
     ]
    },
    "cea8ded1f9ac4745a40b7d5a3b9a62ea": {
     "views": [
      {
       "cell_index": 8
      }
     ]
    }
   },
   "version": "1.2.0"
  }
 },
 "nbformat": 4,
 "nbformat_minor": 2
}
