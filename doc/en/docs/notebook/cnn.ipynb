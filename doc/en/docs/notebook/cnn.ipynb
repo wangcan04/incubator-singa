{
 "cells": [
  {
   "cell_type": "markdown",
   "metadata": {},
   "source": [
    "# Classify images from MNIST using LeNet"
   ]
  },
  {
   "cell_type": "markdown",
   "metadata": {},
   "source": [
    "## Dataset\n",
    "\n",
    "Download the [dataset](http://deeplearning.net/data/mnist/mnist.pkl.gz) to your workingspace"
   ]
  },
  {
   "cell_type": "code",
   "execution_count": 48,
   "metadata": {
    "collapsed": true
   },
   "outputs": [],
   "source": [
    "import cPickle, gzip\n",
    "\n",
    "# Load the dataset\n",
    "f = gzip.open('mnist.pkl.gz', 'rb')\n",
    "train_set, valid_set, _ = cPickle.load(f)\n",
    "f.close()"
   ]
  },
  {
   "cell_type": "code",
   "execution_count": 49,
   "metadata": {
    "collapsed": false
   },
   "outputs": [
    {
     "name": "stdout",
     "output_type": "stream",
     "text": [
      "(50000, 784) (50000,)\n",
      "(10000, 784) (10000,)\n"
     ]
    }
   ],
   "source": [
    "print train_set[0].shape, train_set[1].shape\n",
    "print valid_set[0].shape, valid_set[1].shape"
   ]
  },
  {
   "cell_type": "code",
   "execution_count": 50,
   "metadata": {
    "collapsed": false
   },
   "outputs": [],
   "source": [
    "import numpy as np\n",
    "train_x = np.reshape(train_set[0], (50000, 1, 28, 28)).astype(np.float32, copy=False)\n",
    "train_y = np.array(train_set[1]).astype(np.int32, copy=False)\n",
    "valid_x = np.reshape(valid_set[0], (10000, 1, 28, 28))"
   ]
  },
  {
   "cell_type": "code",
   "execution_count": 51,
   "metadata": {
    "collapsed": false
   },
   "outputs": [
    {
     "data": {
      "text/plain": [
       "<matplotlib.image.AxesImage at 0x7f8861433f90>"
      ]
     },
     "execution_count": 51,
     "metadata": {},
     "output_type": "execute_result"
    },
    {
     "data": {
      "image/png": "[encoded data removed]",
      "text/plain": [
       "<matplotlib.figure.Figure at 0x7f8861648fd0>"
      ]
     },
     "metadata": {},
     "output_type": "display_data"
    }
   ],
   "source": [
    "%matplotlib inline\n",
    "import matplotlib.pyplot as plt\n",
    "plt.imshow(train_x[0][0])"
   ]
  },
  {
   "cell_type": "markdown",
   "metadata": {},
   "source": [
    "## Create the CNN model\n",
    "\n",
    "TODO: plot the net structure"
   ]
  },
  {
   "cell_type": "code",
   "execution_count": 52,
   "metadata": {
    "collapsed": false
   },
   "outputs": [
    {
     "name": "stdout",
     "output_type": "stream",
     "text": [
      "conv1 (32, 14, 14)\n",
      "relu1 (32, 14, 14)\n",
      "conv2 (32, 7, 7)\n",
      "relu2 (32, 7, 7)\n",
      "pool (32, 4, 4)\n",
      "flat (512,)\n",
      "dense (10,)\n"
     ]
    },
    {
     "data": {
      "text/plain": [
       "<singa.layer.Dense at 0x7f885010e6d0>"
      ]
     },
     "execution_count": 52,
     "metadata": {},
     "output_type": "execute_result"
    }
   ],
   "source": [
    "from singa import net as ffnet\n",
    "from singa.layer import Conv2D, MaxPooling2D, Dropout, Activation, Flatten, Dense\n",
    "from singa import optimizer, loss, metric\n",
    "from singa import layer\n",
    "layer.engine = 'singacpp'\n",
    "net = ffnet.FeedForwardNet(loss.SoftmaxCrossEntropy(), metric.Accuracy())\n",
    "net.add(Conv2D('conv1', 32, 3, 2, input_sample_shape=(1,28,28)))\n",
    "net.add(Activation('relu1'))\n",
    "net.add(Conv2D('conv2', 32, 3, 2))\n",
    "net.add(Activation('relu2'))\n",
    "net.add(MaxPooling2D('pool', 3, 2))\n",
    "net.add(Flatten('flat'))\n",
    "net.add(Dense('dense', 10))\n"
   ]
  },
  {
   "cell_type": "markdown",
   "metadata": {},
   "source": [
    "## Initialize the parameters\n",
    "\n",
    "* weight matrix - guassian distribution\n",
    "* bias - 0"
   ]
  },
  {
   "cell_type": "code",
   "execution_count": 53,
   "metadata": {
    "collapsed": false
   },
   "outputs": [
    {
     "name": "stdout",
     "output_type": "stream",
     "text": [
      "conv1_weight (32, 9) 0.0797165706754\n",
      "conv1_bias (32,) 0.0\n",
      "conv2_weight (32, 288) 0.0800566524267\n",
      "conv2_bias (32,) 0.0\n",
      "dense_weight (512, 10) 0.0792119652033\n",
      "dense_bias (10,) 0.0\n"
     ]
    }
   ],
   "source": [
    "for pname, pval in zip(net.param_names(), net.param_values()):\n",
    "    if len(pval.shape) > 1:\n",
    "        pval.gaussian(0, 0.1)\n",
    "    else:\n",
    "        pval.set_value(0)\n",
    "    print pname, pval.shape, pval.l1()"
   ]
  },
  {
   "cell_type": "markdown",
   "metadata": {},
   "source": [
    "## Set up the optimizer and tensors"
   ]
  },
  {
   "cell_type": "code",
   "execution_count": 54,
   "metadata": {
    "collapsed": false
   },
   "outputs": [],
   "source": [
    "from singa import tensor\n",
    "from singa.proto import core_pb2\n",
    "from singa import device\n",
    "from singa import utils\n",
    "cpu = device.get_default_device()\n",
    "\n",
    "opt = optimizer.SGD(momentum=0.9, weight_decay=1e-4)\n",
    "batch_size = 32\n",
    "num_train_batch = train_x.shape[0] / batch_size\n",
    "\n",
    "tx = tensor.Tensor((batch_size, 1, 28, 28))\n",
    "ty = tensor.Tensor((batch_size,), cpu , core_pb2.kInt)\n",
    "\n",
    "from tqdm import tnrange\n",
    "idx = np.arange(train_x.shape[0], dtype=np.int32)"
   ]
  },
  {
   "cell_type": "markdown",
   "metadata": {},
   "source": [
    "## Conduct SGD\n",
    "\n",
    "1. process the training data multile time, each time is called on epoch; \n",
    "2. for each epoch, read the data as mini-batches in random order\n",
    "3. for each mini-batch, do BP and update the parameters  "
   ]
  },
  {
   "cell_type": "code",
   "execution_count": 55,
   "metadata": {
    "collapsed": false
   },
   "outputs": [
    {
     "name": "stdout",
     "output_type": "stream",
     "text": [
      "\n",
      "Epoch = 0, training loss = 0.289520, training accuracy = 0.907130\n",
      "\n",
      "Epoch = 1, training loss = 0.110844, training accuracy = 0.964709\n"
     ]
    }
   ],
   "source": [
    "for epoch in range(2):\n",
    "    np.random.shuffle(idx)\n",
    "    loss, acc = 0.0, 0.0\n",
    "    \n",
    "    bar = tnrange(num_train_batch, desc='Epoch %d' % epoch)\n",
    "    for b in bar:\n",
    "        x = train_x[idx[b * batch_size: (b + 1) * batch_size]]\n",
    "        y = train_y[idx[b * batch_size: (b + 1) * batch_size]]\n",
    "        tx.copy_from_numpy(x)\n",
    "        ty.copy_from_numpy(y)\n",
    "        grads, (l, a) = net.train(tx, ty)\n",
    "        loss += l\n",
    "        acc += a\n",
    "        for (s, p, g) in zip(net.param_names(), net.param_values(), grads):\n",
    "            opt.apply_with_lr(epoch, 0.01, g, p, str(s), b)\n",
    "        # update progress bar\n",
    "        bar.set_postfix(train_loss=l, train_accuracy=a)\n",
    "    print 'Epoch = %d, training loss = %f, training accuracy = %f' % (epoch, loss / num_train_batch, acc / num_train_batch)    \n"
   ]
  },
  {
   "cell_type": "markdown",
   "metadata": {},
   "source": [
    "## Save model to disk"
   ]
  },
  {
   "cell_type": "code",
   "execution_count": 56,
   "metadata": {
    "collapsed": true
   },
   "outputs": [],
   "source": [
    "net.save('checkpoint')"
   ]
  },
  {
   "cell_type": "markdown",
   "metadata": {},
   "source": [
    "## Load model from disk"
   ]
  },
  {
   "cell_type": "code",
   "execution_count": 57,
   "metadata": {
    "collapsed": false,
    "scrolled": true
   },
   "outputs": [
    {
     "name": "stdout",
     "output_type": "stream",
     "text": [
      "NOTE: If your model was saved using pickle, then set use_pickle=True for loading it\n",
      "conv2_bias\n",
      "conv2_weight\n",
      "dense_weight\n",
      "conv1_bias\n",
      "dense_bias\n",
      "conv1_weight\n"
     ]
    }
   ],
   "source": [
    "for pval in net.param_values():\n",
    "    pval.set_value(0)\n",
    "net.load('checkpoint')"
   ]
  },
  {
   "cell_type": "markdown",
   "metadata": {},
   "source": [
    "## Do prediction"
   ]
  },
  {
   "cell_type": "code",
   "execution_count": 58,
   "metadata": {
    "collapsed": false
   },
   "outputs": [],
   "source": [
    "from PIL import Image\n",
    "img = Image.open('static/digit.jpg').convert('L')\n",
    "img = img.resize((28,28))\n",
    "img = np.array(img, dtype=np.float32)/255\n",
    "img = tensor.from_numpy(img)\n",
    "img.reshape((1,1,28,28))\n",
    "y=net.predict(img)"
   ]
  },
  {
   "cell_type": "code",
   "execution_count": 59,
   "metadata": {
    "collapsed": false
   },
   "outputs": [
    {
     "data": {
      "text/plain": [
       "[<matplotlib.lines.Line2D at 0x7f886173ce10>]"
      ]
     },
     "execution_count": 59,
     "metadata": {},
     "output_type": "execute_result"
    },
    {
     "data": {
      "image/png": "[encoded data removed]",
      "text/plain": [
       "<matplotlib.figure.Figure at 0x7f88613fb690>"
      ]
     },
     "metadata": {},
     "output_type": "display_data"
    }
   ],
   "source": [
    "prob=tensor.to_numpy(y)[0]\n",
    "plt.plot(range(10), prob)"
   ]
  },
  {
   "cell_type": "markdown",
   "metadata": {},
   "source": [
    "## Debug\n",
    "\n",
    "Print l1 norm or parameter and layer feature\n",
    "\n",
    "1. parameter initialization\n",
    "2. learning rate\n",
    "3. weight decay\n"
   ]
  },
  {
   "cell_type": "code",
   "execution_count": 66,
   "metadata": {
    "collapsed": false
   },
   "outputs": [
    {
     "name": "stdout",
     "output_type": "stream",
     "text": [
      "conv1_weight (32, 9) 8.34960079193\n",
      "conv1_bias (32,) 0.0\n",
      "conv2_weight (32, 288) 7.95598697662\n",
      "conv2_bias (32,) 0.0\n",
      "dense_weight (512, 10) 8.03717041016\n",
      "dense_bias (10,) 0.0\n",
      "\n",
      "\n",
      "Epoch 0\n",
      "-->conv1: 4.302002\n",
      "conv1-->relu1: 2.735491\n",
      "relu1-->conv2: 786.619568\n",
      "conv2-->relu2: 367.875519\n",
      "relu2-->pool: 1118.275635\n",
      "pool-->flat: 1118.275635\n",
      "flat-->dense: 252007.656250\n",
      "-->dense: 0.341626\n",
      "dense-->flat: 0.341626\n",
      "flat-->pool: 0.094934\n",
      "pool-->relu2: 0.054238\n",
      "relu2-->conv2: 9.602279\n",
      "conv2-->relu1: 3.184415\n",
      "relu1-->conv1: 369.496582\n",
      "\n",
      " loss = 84.607285, params\n",
      "conv1_weight 8.74420642853\n",
      "conv1_bias 8.94533920288\n",
      "conv2_weight 8.02143383026\n",
      "conv2_bias 0.136368483305\n",
      "dense_weight 8.30421638489\n",
      "dense_bias 0.00292982649989\n",
      "\n",
      "\n",
      "Epoch 1\n",
      "-->conv1: 13.531499\n",
      "conv1-->relu1: 5.077395\n",
      "relu1-->conv2: 1763.377441\n",
      "conv2-->relu2: 549.378418\n",
      "relu2-->pool: 1188.585815\n",
      "pool-->flat: 1188.585815\n",
      "flat-->dense: 1785113.750000\n",
      "-->dense: 0.301339\n",
      "dense-->flat: 0.301339\n",
      "flat-->pool: 0.088823\n",
      "pool-->relu2: 0.039446\n",
      "relu2-->conv2: 8.608853\n",
      "conv2-->relu1: 4.019054\n",
      "relu1-->conv1: 636.643738\n",
      "\n",
      " loss = 70.960945, params\n",
      "conv1_weight 14.3541545868\n",
      "conv1_bias 34.0238342285\n",
      "conv2_weight 8.66453075409\n",
      "conv2_bias 0.347128778696\n",
      "dense_weight 9.52184677124\n",
      "dense_bias 0.00656666746363\n",
      "\n",
      "\n",
      "Epoch 2\n",
      "-->conv1: 48.429848\n",
      "conv1-->relu1: 5.016845\n",
      "relu1-->conv2: 6763.889160\n",
      "conv2-->relu2: 1066.572510\n",
      "relu2-->pool: 1371.663452\n",
      "pool-->flat: 1371.663452\n",
      "flat-->dense: 2894190.250000\n",
      "-->dense: 0.352008\n",
      "dense-->flat: 0.352008\n",
      "flat-->pool: 0.111146\n",
      "pool-->relu2: 0.027382\n",
      "relu2-->conv2: 8.424154\n",
      "conv2-->relu1: 1.240703\n",
      "relu1-->conv1: 350.912109\n",
      "\n",
      " loss = 68.231674, params\n",
      "conv1_weight 29.8060913086\n",
      "conv1_bias 74.9480819702\n",
      "conv2_weight 10.7842817307\n",
      "conv2_bias 0.762062132359\n",
      "dense_weight 11.9971895218\n",
      "dense_bias 0.00886435620487\n",
      "\n",
      "\n",
      "Epoch 3\n",
      "-->conv1: 106.237007\n",
      "conv1-->relu1: 0.000563\n",
      "relu1-->conv2: 1.789252\n",
      "conv2-->relu2: 0.492340\n",
      "relu2-->pool: 2.839576\n",
      "pool-->flat: 2.839576\n",
      "flat-->dense: 11248.885742\n",
      "-->dense: 0.458697\n",
      "dense-->flat: 0.458697\n",
      "flat-->pool: 0.145061\n",
      "pool-->relu2: 0.032831\n",
      "relu2-->conv2: 14.666658\n",
      "conv2-->relu1: 0.047289\n",
      "relu1-->conv1: 40.497540\n",
      "\n",
      " loss = 75.734070, params\n",
      "conv1_weight 45.9392356873\n",
      "conv1_bias 123.502990723\n",
      "conv2_weight 13.1209897995\n",
      "conv2_bias 1.48102915287\n",
      "dense_weight 14.9837007523\n",
      "dense_bias 0.0113293929026\n",
      "\n",
      "\n",
      "Epoch 4\n",
      "-->conv1: 178.779572\n",
      "conv1-->relu1: 0.000000\n",
      "relu1-->conv2: 1.481030\n",
      "conv2-->relu2: 0.005717\n",
      "relu2-->pool: 0.005717\n",
      "pool-->flat: 0.005717\n",
      "flat-->dense: 5.258051\n",
      "-->dense: 0.811532\n",
      "dense-->flat: 0.811532\n",
      "flat-->pool: 0.264990\n",
      "pool-->relu2: 0.002910\n",
      "relu2-->conv2: 1.238057\n",
      "conv2-->relu1: 0.000000\n",
      "relu1-->conv1: 0.000000\n",
      "\n",
      " loss = 9.964536, params\n",
      "conv1_weight 60.5861129761\n",
      "conv1_bias 167.202285767\n",
      "conv2_weight 15.330581665\n",
      "conv2_bias 2.14834022522\n",
      "dense_weight 17.840763092\n",
      "dense_bias 0.0129505097866\n",
      "\n",
      "\n",
      "Epoch 5\n",
      "-->conv1: 232.078232\n",
      "conv1-->relu1: 0.000000\n",
      "relu1-->conv2: 2.148340\n",
      "conv2-->relu2: 0.000000\n",
      "relu2-->pool: 0.000000\n",
      "pool-->flat: 0.000000\n",
      "flat-->dense: 0.012951\n",
      "-->dense: 0.503328\n",
      "dense-->flat: 0.503328\n",
      "flat-->pool: 0.164352\n",
      "pool-->relu2: 0.000000\n",
      "relu2-->conv2: 0.000000\n",
      "conv2-->relu1: 0.000000\n",
      "relu1-->conv1: 0.000000\n",
      "\n",
      " loss = 2.301227, params\n",
      "conv1_weight 73.7851867676\n",
      "conv1_bias 206.531494141\n",
      "conv2_weight 17.3631916046\n",
      "conv2_bias 2.75920915604\n",
      "dense_weight 20.4932136536\n",
      "dense_bias 0.0159494094551\n",
      "\n",
      "\n",
      "Epoch 6\n",
      "-->conv1: 283.467133\n",
      "conv1-->relu1: 0.000000\n",
      "relu1-->conv2: 2.759209\n",
      "conv2-->relu2: 0.000000\n",
      "relu2-->pool: 0.000000\n",
      "pool-->flat: 0.000000\n",
      "flat-->dense: 0.015949\n",
      "-->dense: 0.644301\n",
      "dense-->flat: 0.644301\n",
      "flat-->pool: 0.210384\n",
      "pool-->relu2: 0.000000\n",
      "relu2-->conv2: 0.000000\n",
      "conv2-->relu1: 0.000000\n",
      "relu1-->conv1: 0.000000\n",
      "\n",
      " loss = 2.301194, params\n",
      "conv1_weight 85.6775588989\n",
      "conv1_bias 241.927566528\n",
      "conv2_weight 19.2226772308\n",
      "conv2_bias 3.30898880959\n",
      "dense_weight 22.9302272797\n",
      "dense_bias 0.0186949707568\n",
      "\n",
      "\n",
      "Epoch 7\n",
      "-->conv1: 337.629517\n",
      "conv1-->relu1: 0.000000\n",
      "relu1-->conv2: 3.308988\n",
      "conv2-->relu2: 0.000000\n",
      "relu2-->pool: 0.000000\n",
      "pool-->flat: 0.000000\n",
      "flat-->dense: 0.018695\n",
      "-->dense: 0.707549\n",
      "dense-->flat: 0.707549\n",
      "flat-->pool: 0.231036\n",
      "pool-->relu2: 0.000000\n",
      "relu2-->conv2: 0.000000\n",
      "conv2-->relu1: 0.000000\n",
      "relu1-->conv1: 0.000000\n",
      "\n",
      " loss = 2.305180, params\n",
      "conv1_weight 96.3861694336\n",
      "conv1_bias 273.783782959\n",
      "conv2_weight 20.9143486023\n",
      "conv2_bias 3.80378699303\n",
      "dense_weight 25.1468105316\n",
      "dense_bias 0.0210847854614\n",
      "\n",
      "\n",
      "Epoch 8\n",
      "-->conv1: 387.298615\n",
      "conv1-->relu1: 0.000000\n",
      "relu1-->conv2: 3.803786\n",
      "conv2-->relu2: 0.000000\n",
      "relu2-->pool: 0.000000\n",
      "pool-->flat: 0.000000\n",
      "flat-->dense: 0.021085\n",
      "-->dense: 0.900320\n",
      "dense-->flat: 0.900320\n",
      "flat-->pool: 0.293982\n",
      "pool-->relu2: 0.000000\n",
      "relu2-->conv2: 0.000000\n",
      "conv2-->relu1: 0.000000\n",
      "relu1-->conv1: 0.000000\n",
      "\n",
      " loss = 2.307150, params\n",
      "conv1_weight 106.032073975\n",
      "conv1_bias 302.454101562\n",
      "conv2_weight 22.4469833374\n",
      "conv2_bias 4.24910163879\n",
      "dense_weight 27.1587944031\n",
      "dense_bias 0.0231520365924\n",
      "\n",
      "\n",
      "Epoch 9\n",
      "-->conv1: 436.321594\n",
      "conv1-->relu1: 0.000000\n",
      "relu1-->conv2: 4.249102\n",
      "conv2-->relu2: 0.000000\n",
      "relu2-->pool: 0.000000\n",
      "pool-->flat: 0.000000\n",
      "flat-->dense: 0.023152\n",
      "-->dense: 0.713473\n",
      "dense-->flat: 0.713473\n",
      "flat-->pool: 0.232971\n",
      "pool-->relu2: 0.000000\n",
      "relu2-->conv2: 0.000000\n",
      "conv2-->relu1: 0.000000\n",
      "relu1-->conv1: 0.000000\n",
      "\n",
      " loss = 2.295418, params\n",
      "conv1_weight 114.716308594\n",
      "conv1_bias 328.257110596\n",
      "conv2_weight 23.8340930939\n",
      "conv2_bias 4.64988040924\n",
      "dense_weight 28.9828491211\n",
      "dense_bias 0.0251769162714\n"
     ]
    }
   ],
   "source": [
    "np.random.shuffle(idx)\n",
    "ffnet.verbose=True\n",
    "for pname, pval in zip(net.param_names(), net.param_values()):\n",
    "    if len(pval.shape) > 1:\n",
    "        pval.gaussian(0, 10)\n",
    "    else:\n",
    "        pval.set_value(0)\n",
    "    print pname, pval.shape, pval.l1()\n",
    "for b in range(10):\n",
    "    print \"\\n\\nEpoch %d\" % b\n",
    "    x = train_x[idx[b * batch_size: (b + 1) * batch_size]]\n",
    "    y = train_y[idx[b * batch_size: (b + 1) * batch_size]]\n",
    "    tx.copy_from_numpy(x)\n",
    "    ty.copy_from_numpy(y)\n",
    "    grads, (l, a) = net.train(tx, ty)\n",
    "    print '\\n loss = %f, params' % l\n",
    "    for (s, p, g) in zip(net.param_names(), net.param_values(), grads):\n",
    "        opt.apply_with_lr(epoch, 0.01, g, p, str(s), b)\n",
    "        print s, p.l1()\n"
   ]
  },
  {
   "cell_type": "code",
   "execution_count": 38,
   "metadata": {
    "collapsed": true
   },
   "outputs": [],
   "source": [
    "def vis_square(data):\n",
    "    \"\"\"Take an array of shape (n, height, width) or (n, height, width, 3)\n",
    "       and visualize each (height, width) thing in a grid of size approx. sqrt(n) by sqrt(n)\"\"\"\n",
    "    \n",
    "    # normalize data for display\n",
    "    data = (data - data.min()) / (data.max() - data.min())\n",
    "    \n",
    "    # force the number of filters to be square\n",
    "    n = int(np.ceil(np.sqrt(data.shape[0])))\n",
    "    padding = (((0, n ** 2 - data.shape[0]),\n",
    "               (0, 1), (0, 1))                 # add some space between filters\n",
    "               + ((0, 0),) * (data.ndim - 3))  # don't pad the last dimension (if there is one)\n",
    "    data = np.pad(data, padding, mode='constant', constant_values=1)  # pad with ones (white)\n",
    "    \n",
    "    # tile the filters into an image\n",
    "    data = data.reshape((n, n) + data.shape[1:]).transpose((0, 2, 1, 3) + tuple(range(4, data.ndim + 1)))\n",
    "    data = data.reshape((n * data.shape[1], n * data.shape[3]) + data.shape[4:])\n",
    "    \n",
    "    plt.imshow(data); plt.axis('off')"
   ]
  },
  {
   "cell_type": "code",
   "execution_count": 67,
   "metadata": {
    "collapsed": false
   },
   "outputs": [
    {
     "name": "stdout",
     "output_type": "stream",
     "text": [
      "NOTE: If your model was saved using pickle, then set use_pickle=True for loading it\n",
      "conv2_bias\n",
      "conv2_weight\n",
      "dense_weight\n",
      "conv1_bias\n",
      "dense_bias\n",
      "conv1_weight\n"
     ]
    }
   ],
   "source": [
    "np.random.shuffle(idx)\n",
    "ffnet.verbose=False\n",
    "net.load('checkpoint')\n",
    "b=1\n",
    "x = train_x[idx[b * batch_size: (b + 1) * batch_size]]    \n",
    "tx.copy_from_numpy(x)\n",
    "\n",
    "r = net.forward(False, tx, ['relu1', 'relu2'])\n",
    "\n",
    "\n",
    "    "
   ]
  },
  {
   "cell_type": "code",
   "execution_count": 46,
   "metadata": {
    "collapsed": false
   },
   "outputs": [
    {
     "data": {
      "image/png": "[encoded data removed]",
      "text/plain": [
       "<matplotlib.figure.Figure at 0x7f8861633d10>"
      ]
     },
     "metadata": {},
     "output_type": "display_data"
    }
   ],
   "source": [
    "r1 = tensor.to_numpy(r['relu1'])[0]\n",
    "vis_square(r1)"
   ]
  },
  {
   "cell_type": "code",
   "execution_count": 68,
   "metadata": {
    "collapsed": false
   },
   "outputs": [
    {
     "data": {
      "image/png": "[encoded data removed]",
      "text/plain": [
       "<matplotlib.figure.Figure at 0x7f886149fdd0>"
      ]
     },
     "metadata": {},
     "output_type": "display_data"
    }
   ],
   "source": [
    "r2 = tensor.to_numpy(r['relu2'])[0]\n",
    "vis_square(r2)"
   ]
  },
  {
   "cell_type": "code",
   "execution_count": 73,
   "metadata": {
    "collapsed": false
   },
   "outputs": [
    {
     "name": "stdout",
     "output_type": "stream",
     "text": [
      "(32, 288)\n"
     ]
    }
   ],
   "source": [
    "p=net.param_values()[2]\n",
    "print p.shape"
   ]
  },
  {
   "cell_type": "code",
   "execution_count": 72,
   "metadata": {
    "collapsed": false
   },
   "outputs": [
    {
     "data": {
      "image/png": "[encoded data removed]",
      "text/plain": [
       "<matplotlib.figure.Figure at 0x7f8861433250>"
      ]
     },
     "metadata": {},
     "output_type": "display_data"
    }
   ],
   "source": [
    "vis_square(tensor.to_numpy(p).reshape(32, 3,3))"
   ]
  },
  {
   "cell_type": "code",
   "execution_count": null,
   "metadata": {
    "collapsed": true
   },
   "outputs": [],
   "source": []
  }
 ],
 "metadata": {
  "anaconda-cloud": {},
  "kernelspec": {
   "display_name": "Python [conda env:conda]",
   "language": "python",
   "name": "conda-env-conda-py"
  },
  "language_info": {
   "codemirror_mode": {
    "name": "ipython",
    "version": 2
   },
   "file_extension": ".py",
   "mimetype": "text/x-python",
   "name": "python",
   "nbconvert_exporter": "python",
   "pygments_lexer": "ipython2",
   "version": "2.7.13"
  },
  "widgets": {
   "state": {
    "553d589c3b0547df92a315f6193413ef": {
     "views": [
      {
       "cell_index": 13
      }
     ]
    },
    "93444cc476b044d4a3487ada5a6bbad2": {
     "views": [
      {
       "cell_index": 13
      }
     ]
    },
    "a11fe9b4e82541f7b41d2da4efac6b36": {
     "views": [
      {
       "cell_index": 8
      }
     ]
    },
    "c767e7556ab84d6b88da58208fd2249b": {
     "views": [
      {
       "cell_index": 8
      }
     ]
    },
    "cea8ded1f9ac4745a40b7d5a3b9a62ea": {
     "views": [
      {
       "cell_index": 8
      }
     ]
    }
   },
   "version": "1.2.0"
  }
 },
 "nbformat": 4,
 "nbformat_minor": 2
}
